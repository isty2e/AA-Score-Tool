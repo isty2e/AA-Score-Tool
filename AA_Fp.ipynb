{
 "cells": [
  {
   "cell_type": "code",
   "execution_count": 162,
   "metadata": {},
   "outputs": [],
   "source": [
    "import numpy as np\n",
    "from rdkit import Chem\n",
    "\n",
    "from interaction_components.plinteraction import get_interactions"
   ]
  },
  {
   "cell_type": "code",
   "execution_count": 163,
   "metadata": {},
   "outputs": [],
   "source": [
    "def get_residue(mol_prot):\n",
    "    all_residues = []\n",
    "    for at in mol_prot.GetAtoms():\n",
    "        resinfo = at.GetPDBResidueInfo()\n",
    "\n",
    "        chainid = resinfo.GetChainId().strip()\n",
    "        residue_type = resinfo.GetResidueName().strip()\n",
    "        residue_number = str(resinfo.GetResidueNumber()).strip()\n",
    "        if len(chainid) == 0:\n",
    "            chainid = \"A\"\n",
    "        #             raise RuntimeWarning(\"no chain id in pdb\")\n",
    "        label = \"_\".join([chainid, residue_type, residue_number])\n",
    "        all_residues.append(label)\n",
    "    all_residues = list(set(all_residues))\n",
    "    all_residues.sort()\n",
    "    return all_residues"
   ]
  },
  {
   "cell_type": "code",
   "execution_count": 164,
   "metadata": {},
   "outputs": [],
   "source": [
    "def create_hb_dict(residues):\n",
    "    interaction_dict = {}\n",
    "    for name in residues:\n",
    "        interaction_dict.update({name + \"_side\": 0})\n",
    "        interaction_dict.update({name + \"_main\": 0})\n",
    "    return interaction_dict"
   ]
  },
  {
   "cell_type": "code",
   "execution_count": 165,
   "metadata": {},
   "outputs": [],
   "source": [
    "def calc_hbond_strength(hb):\n",
    "    dist = hb.distance_ad\n",
    "    return -(1 / (1 + np.power(dist / 2.6, 6))) / 0.58"
   ]
  },
  {
   "cell_type": "code",
   "execution_count": 203,
   "metadata": {},
   "outputs": [],
   "source": [
    "def calc_hb(hbonds, hb_dict):\n",
    "    for hb in hbonds:\n",
    "        reschain = hb.reschain.strip()\n",
    "        restype = hb.restype\n",
    "        sidechain = hb.sidechain\n",
    "        resnr = str(hb.resnr)\n",
    "        if len(reschain) == 0:\n",
    "            #             raise RuntimeWarning(\"no chain id in hbonds\")\n",
    "            reschain = \"A\"\n",
    "        label = \"_\".join([reschain, restype, resnr])\n",
    "        energy = calc_hbond_strength(hb)\n",
    "        if sidechain:\n",
    "            key = label + \"_side\"\n",
    "        else:\n",
    "            key = label + \"_main\"\n",
    "        hb_dict[key] += energy\n",
    "    return"
   ]
  },
  {
   "cell_type": "code",
   "execution_count": 204,
   "metadata": {},
   "outputs": [],
   "source": [
    "def calc_hbonds_descriptor(interactions, protein_residues):\n",
    "    hb_dict = create_hb_dict(protein_residues)\n",
    "    calc_hb(interactions.hbonds_ldon, hb_dict)\n",
    "    calc_hb(interactions.hbonds_pdon, hb_dict)\n",
    "    return hb_dict"
   ]
  },
  {
   "cell_type": "code",
   "execution_count": 205,
   "metadata": {},
   "outputs": [],
   "source": [
    "def calc_saltbridge_strength(saltbridge):\n",
    "    dist = saltbridge.distance\n",
    "    if dist <= 4.0:\n",
    "        return 1\n",
    "    else:\n",
    "        return 5.0 - dist"
   ]
  },
  {
   "cell_type": "code",
   "execution_count": 206,
   "metadata": {},
   "outputs": [],
   "source": [
    "def calc_saltbridge(saltbridges, sb_dict):\n",
    "    for sb in saltbridges:\n",
    "        reschain = sb.reschain.strip()\n",
    "        restype = sb.restype\n",
    "        resnr = str(sb.resnr)\n",
    "        if len(reschain) == 0:\n",
    "            #             raise RuntimeWarning(\"no chain id in saltbridge\")\n",
    "            reschain = \"A\"\n",
    "        label = \"_\".join([reschain, restype, resnr])\n",
    "        energy = calc_saltbridge_strength(sb)\n",
    "        sb_dict[label] += energy\n",
    "    return"
   ]
  },
  {
   "cell_type": "code",
   "execution_count": 207,
   "metadata": {},
   "outputs": [],
   "source": [
    "def create_sb_dict(residues):\n",
    "    interaction_dict = {}\n",
    "    for name in residues:\n",
    "        interaction_dict.update({name: 0})\n",
    "    return interaction_dict"
   ]
  },
  {
   "cell_type": "code",
   "execution_count": 208,
   "metadata": {},
   "outputs": [],
   "source": [
    "def calc_saltbridge_descriptor(interactions, protein_residues):\n",
    "    sb_dict = create_sb_dict(protein_residues)\n",
    "    calc_saltbridge(interactions.saltbridge_lneg, sb_dict)\n",
    "    calc_saltbridge(interactions.saltbridge_pneg, sb_dict)\n",
    "    return sb_dict"
   ]
  },
  {
   "cell_type": "code",
   "execution_count": 209,
   "metadata": {},
   "outputs": [],
   "source": [
    "radius = {\n",
    "    \"N\": 1.8,\n",
    "    \"O\": 1.7,\n",
    "    \"S\": 2.0,\n",
    "    \"P\": 2.1,\n",
    "    \"F\": 1.5,\n",
    "    \"Cl\": 1.8,\n",
    "    \"Br\": 2.0,\n",
    "    \"I\": 2.2,\n",
    "    \"C\": 1.9,\n",
    "    \"H\": 0.0,\n",
    "    \"Zn\": 0.5,\n",
    "    \"B\": 1.8,\n",
    "    \"Si\": 1.8,\n",
    "    \"As\": 1.8,\n",
    "    \"Se\": 1.8,\n",
    "}\n",
    "\n",
    "\n",
    "def get_hyd_strength(dist, patom, latom):\n",
    "    p_radii = radius.get(patom.GetSymbol(), 0.5)\n",
    "    l_radii = radius.get(latom.GetSymbol(), 0.5)\n",
    "\n",
    "    d1 = p_radii + l_radii\n",
    "    if dist <= d1 + 0.5:\n",
    "        return -1.0\n",
    "    elif d1 + 0.5 < dist < d1 + 2.0:\n",
    "        return -0.66666 * (d1 + 2.0 - dist)\n",
    "    else:\n",
    "        return 0\n",
    "\n",
    "\n",
    "def calc_hydrophobic(hydro):\n",
    "    dist = hydro.distance\n",
    "    patom = hydro.bsatom\n",
    "    latom = hydro.ligatom\n",
    "\n",
    "    hydrophobic_energy = get_hyd_strength(dist, patom, latom)\n",
    "    return hydrophobic_energy"
   ]
  },
  {
   "cell_type": "code",
   "execution_count": 210,
   "metadata": {},
   "outputs": [],
   "source": [
    "def create_hc_dict(residues):\n",
    "    interaction_dict = {}\n",
    "    for name in residues:\n",
    "        interaction_dict.update({name + \"_side\": 0})\n",
    "        interaction_dict.update({name + \"_main\": 0})\n",
    "    return interaction_dict"
   ]
  },
  {
   "cell_type": "code",
   "execution_count": 211,
   "metadata": {},
   "outputs": [],
   "source": [
    "def calc_hydrophybic_descriptor(interactions, protein_residues):\n",
    "    hc_dict = create_hc_dict(protein_residues)\n",
    "    for hc in interactions.all_hydrophobic_contacts:\n",
    "        reschain = hc.reschain.strip()\n",
    "        restype = hc.restype\n",
    "        sidechain = hc.sidechain\n",
    "        resnr = str(hc.resnr)\n",
    "        if len(reschain) == 0:\n",
    "            reschain = \"A\"\n",
    "        #             raise RuntimeWarning(\"no chain id in hydrophybic\")\n",
    "        label = \"_\".join([reschain, restype, resnr])\n",
    "        energy = calc_hydrophobic(hc)\n",
    "        if sidechain:\n",
    "            key = label + \"_side\"\n",
    "        else:\n",
    "            key = label + \"_main\"\n",
    "        hc_dict[key] += energy\n",
    "    return hc_dict"
   ]
  },
  {
   "cell_type": "code",
   "execution_count": 212,
   "metadata": {},
   "outputs": [],
   "source": [
    "def calc_ifp(mol_prot, mol_lig):\n",
    "    protein_residues = get_residue(mol_prot)\n",
    "    result = get_interactions(mol_prot, mol_lig)\n",
    "    interactions = result.interactions\n",
    "\n",
    "    hbonds_fp = calc_hbonds_descriptor(interactions, protein_residues)\n",
    "    saltbridge_fp = calc_saltbridge_descriptor(interactions, protein_residues)\n",
    "    hc_fp = calc_hydrophybic_descriptor(interactions, protein_residues)\n",
    "    return protein_residues, hbonds_fp, saltbridge_fp, hc_fp"
   ]
  },
  {
   "cell_type": "code",
   "execution_count": 233,
   "metadata": {},
   "outputs": [],
   "source": [
    "protein_file = \"data/5vsd/pocket.pdb\"\n",
    "ligand_file = \"data/5vsd/Lig_fixed.sdf\""
   ]
  },
  {
   "cell_type": "code",
   "execution_count": 234,
   "metadata": {},
   "outputs": [],
   "source": [
    "mol_prot = Chem.MolFromPDBFile(protein_file, removeHs=False)\n",
    "mol_ligs = Chem.SDMolSupplier(ligand_file, removeHs=False)"
   ]
  },
  {
   "cell_type": "code",
   "execution_count": 235,
   "metadata": {},
   "outputs": [],
   "source": [
    "for mol_lig in mol_ligs:\n",
    "    protein_residues, hbonds_fp, saltbridge_fp, hc_fp = calc_ifp(mol_prot, mol_lig)"
   ]
  }
 ],
 "metadata": {
  "kernelspec": {
   "display_name": "pytorch",
   "language": "python",
   "name": "pytorch"
  },
  "language_info": {
   "codemirror_mode": {
    "name": "ipython",
    "version": 3
   },
   "file_extension": ".py",
   "mimetype": "text/x-python",
   "name": "python",
   "nbconvert_exporter": "python",
   "pygments_lexer": "ipython3",
   "version": "3.6.9"
  }
 },
 "nbformat": 4,
 "nbformat_minor": 4
}
